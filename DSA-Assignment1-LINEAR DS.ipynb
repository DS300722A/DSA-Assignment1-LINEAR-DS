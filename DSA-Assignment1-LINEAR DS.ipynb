{
 "cells": [
  {
   "cell_type": "code",
   "execution_count": null,
   "id": "22bab65c",
   "metadata": {},
   "outputs": [],
   "source": [
    "Problem for Assignment-1: Linear Data Structures"
   ]
  },
  {
   "cell_type": "code",
   "execution_count": null,
   "id": "81f2e50c",
   "metadata": {},
   "outputs": [],
   "source": [
    "Solve these questions in a Jupyter notebook. Share the URL of the Jupyter notebook/GitHub.\n",
    "\n",
    "\n",
    "\n",
    "Q1. Write a program to find all pairs of an integer array whose sum is equal to a given number?\n",
    "\n",
    "Q2. Write a program to reverse an array in place? In place means you cannot create a new array. You have to update the original array.\n",
    "\n",
    "Q3. Write a program to check if two strings are a rotation of each other?\n",
    "\n",
    "Q4. Write a program to print the first non-repeated character from a string?\n",
    "\n",
    "Q5. Read about the Tower of Hanoi algorithm. Write a program to implement it.\n",
    "\n",
    "Q6. Read about infix, prefix, and postfix expressions. Write a program to convert postfix to prefix expression.\n",
    "\n",
    "Q7. Write a program to convert prefix expression to infix expression.\n",
    "\n",
    "Q8. Write a program to check if all the brackets are closed in a given code snippet.\n",
    "\n",
    "Q9. Write a program to reverse a stack.\n",
    "\n",
    "Q10. Write a program to find the smallest number using a stack.\n",
    "\n"
   ]
  },
  {
   "cell_type": "code",
   "execution_count": 11,
   "id": "18dcf1bb",
   "metadata": {},
   "outputs": [
    {
     "name": "stdout",
     "output_type": "stream",
     "text": [
      "(5,5)\n",
      "(6,4)\n",
      "(7,3)\n",
      "(8,2)\n",
      "(9,1)\n"
     ]
    }
   ],
   "source": [
    "#Q1. Write a program to find all pairs of an integer array whose sum is equal to a given number?\n",
    "\n",
    "def sum_pairs(array , num , sum):\n",
    "    for i in range(num):\n",
    "        for j in range(i+1 , num):\n",
    "            if array[i] + array[j] == sum:\n",
    "                print(\"(\",array[i],\",\",array[j],\")\",sep='')\n",
    "                \n",
    "                \n",
    "                \n",
    "# drive the code\n",
    "array = [5,6,4,5,7,3,8,2,9,1]\n",
    "num = len(array)\n",
    "sum = 10\n",
    "\n",
    "\n",
    "sum_pairs(array, num, sum)"
   ]
  },
  {
   "cell_type": "code",
   "execution_count": 38,
   "id": "7d498891",
   "metadata": {},
   "outputs": [
    {
     "name": "stdout",
     "output_type": "stream",
     "text": [
      "[12, 24, 54, 56]\n",
      "Reversed list is [56, 54, 24, 12]\n"
     ]
    }
   ],
   "source": [
    "# Q.2 WAP to reverse an array in place? In place means you cannot create a new array. You have to update the original array.\n",
    "\n",
    "def reverse(arr):\n",
    "    return (arr[::-1])\n",
    "\n",
    "arr=[12,24,54,56]\n",
    "print(arr)\n",
    "print(\"Reversed list is\",reverse(arr))\n",
    " \n",
    "\n",
    "\n",
    "\n",
    "\n"
   ]
  },
  {
   "cell_type": "code",
   "execution_count": 46,
   "id": "c500ca01",
   "metadata": {},
   "outputs": [
    {
     "name": "stdout",
     "output_type": "stream",
     "text": [
      "[1, 2, 3, 4, 5, 6]\n",
      "Reversed list is\n",
      "[6, 5, 4, 3, 2, 1]\n"
     ]
    }
   ],
   "source": [
    "# Q.2 WAP to reverse an array in place? In place means you cannot create a new array. You have to update the original array.\n",
    "def reverseList(A, start, end):\n",
    "    while start < end:\n",
    "        A[start], A[end] = A[end], A[start]\n",
    "        start += 1\n",
    "        end -= 1\n",
    "        \n",
    "A = [1, 2, 3, 4, 5, 6]\n",
    "print(A)\n",
    "reverseList(A, 0, 5)\n",
    "print(\"Reversed list is\")\n",
    "print(A)"
   ]
  },
  {
   "cell_type": "code",
   "execution_count": 12,
   "id": "318ae59d",
   "metadata": {},
   "outputs": [
    {
     "name": "stdout",
     "output_type": "stream",
     "text": [
      "Strings are rotations of each other\n"
     ]
    }
   ],
   "source": [
    "#Q3. Write a program to check if two strings are a rotation of each other?\n",
    "\n",
    "#Follow the given steps to solve the problem\n",
    "\n",
    "#If the size of both strings is not equal, then it can never be possible.\n",
    "#Push the original string into a queue q1.\n",
    "#Push the string to be checked inside another queue q2.\n",
    "#Keep popping q2‘s and pushing it back into it till the number of such operations is less than the size of the string.\n",
    "#If q2 becomes equal to q1 at any point during these operations, it is possible. Else not.\n",
    "\n",
    "def check_rotation(s, goal):\n",
    " \n",
    "    if (len(s) != len(goal)):\n",
    "        skip\n",
    " \n",
    "    q1 = []\n",
    "    for i in range(len(s)):\n",
    "        q1.insert(i, s[i])\n",
    " \n",
    "    q2 = []\n",
    "    for i in range(len(goal)):\n",
    "        q2.insert(i, goal[i])\n",
    " \n",
    "    k = len(goal)\n",
    "    while (k > 0):\n",
    "        ch = q2[0]\n",
    "        q2.pop(0)\n",
    "        q2.append(ch)\n",
    "        if (q2 == q1):\n",
    "            return True\n",
    " \n",
    "        k -= 1\n",
    " \n",
    "    return False\n",
    " \n",
    "if __name__ == \"__main__\":\n",
    " \n",
    "    string1 = \"AACD\"\n",
    "    string2 = \"ACDA\"\n",
    " \n",
    "    # Function call\n",
    "    if check_rotation(string1, string2):\n",
    "        print(\"Strings are rotations of each other\")\n",
    "    else:\n",
    "        print(\"Strings are not rotations of each other\")\n",
    " "
   ]
  },
  {
   "cell_type": "code",
   "execution_count": 15,
   "id": "3d7d3e5c",
   "metadata": {},
   "outputs": [
    {
     "name": "stdout",
     "output_type": "stream",
     "text": [
      "Fisrt repeted alphabet in the string is :  f\n"
     ]
    }
   ],
   "source": [
    "#Q4. Write a program to print the first non-repeated character from a string?\n",
    "\n",
    "from collections import Counter\n",
    " \n",
    "# Function which repeats\n",
    "# first Nonrepeating character\n",
    "def printNonrepeated(string):\n",
    " \n",
    "    # Calculating frequencies\n",
    "    # using Counter function\n",
    "    freq = Counter(string)\n",
    " \n",
    "    # Traverse the string\n",
    "    for i in string:\n",
    "        if(freq[i] == 1):\n",
    "            print(\"Fisrt repeted alphabet in the string is : \",i)\n",
    "            break\n",
    "\n",
    "string = \"geeksforgeeks\"\n",
    " \n",
    "#function call\n",
    "printNonrepeated(string)"
   ]
  },
  {
   "cell_type": "code",
   "execution_count": 17,
   "id": "c90caef5",
   "metadata": {},
   "outputs": [
    {
     "name": "stdout",
     "output_type": "stream",
     "text": [
      ">>>GREEKFORGREENS\n",
      "the first founded string variable is:  K\n"
     ]
    }
   ],
   "source": [
    "#Q4. Write a program to print the first non-repeated character from a string?\n",
    "\n",
    "str1 = input(\">>>\" )\n",
    "found = None\n",
    "\n",
    "for i in str1:\n",
    "    if (str1.count(i) == 1):\n",
    "        print(\"the first founded string variable is: \",i)\n",
    "        found = True\n",
    "        break\n",
    "\n",
    "if (found == False):\n",
    "    print(\"there is non repeating char in str1\")"
   ]
  },
  {
   "cell_type": "code",
   "execution_count": 1,
   "id": "639a78c9",
   "metadata": {},
   "outputs": [
    {
     "name": "stdout",
     "output_type": "stream",
     "text": [
      "Move disk 1 from source A to destination C\n",
      "Move disk 2 from source A to destination B\n",
      "Move disk 1 from source C to destination B\n",
      "Move disk 3 from source A to destination C\n",
      "Move disk 1 from source B to destination A\n",
      "Move disk 2 from source B to destination C\n",
      "Move disk 1 from source A to destination C\n",
      "Move disk 4 from source A to destination B\n",
      "Move disk 1 from source C to destination B\n",
      "Move disk 2 from source C to destination A\n",
      "Move disk 1 from source B to destination A\n",
      "Move disk 3 from source C to destination B\n",
      "Move disk 1 from source A to destination C\n",
      "Move disk 2 from source A to destination B\n",
      "Move disk 1 from source C to destination B\n"
     ]
    }
   ],
   "source": [
    "#Q5. Read about the Tower of Hanoi algorithm. Write a program to implement it.\n",
    "\n",
    "\n",
    "def TowerOfHanoi(n , source, destination, helper_tower):\n",
    "    if n==1:\n",
    "        print (\"Move disk 1 from source\",source,\"to destination\",destination)\n",
    "        return\n",
    "    TowerOfHanoi(n-1, source, helper_tower, destination)\n",
    "    print (\"Move disk\",n,\"from source\",source,\"to destination\",destination)\n",
    "    TowerOfHanoi(n-1, helper_tower, destination, source)\n",
    "         \n",
    "# Driver code\n",
    "n = 4\n",
    "TowerOfHanoi(n,'A','B','C')"
   ]
  },
  {
   "cell_type": "code",
   "execution_count": 3,
   "id": "8849fdc1",
   "metadata": {},
   "outputs": [
    {
     "name": "stdout",
     "output_type": "stream",
     "text": [
      "Prefix expresion is  :  +AB-CD\n"
     ]
    }
   ],
   "source": [
    "#Q6. Read about infix, prefix, and postfix expressions. Write a program to convert postfix to prefix expression.\n",
    "\n",
    "def isOperator(x):\n",
    "\n",
    "    if x == \"+\":\n",
    "        return True\n",
    "\n",
    "    if x == \"-\":\n",
    "        return True\n",
    "\n",
    "    if x == \"/\":\n",
    "        return True\n",
    "\n",
    "    if x == \"*\":\n",
    "        return True\n",
    "\n",
    "    return False\n",
    "\n",
    "def postToPre(post_exp):\n",
    "\n",
    "    s = []\n",
    "\n",
    "    length = len(post_exp)\n",
    "\n",
    "    for i in range(length):\n",
    "\n",
    "        if (isOperator(post_exp[i])):\n",
    "\n",
    "            op1 = s[-1]\n",
    "            s.pop()\n",
    "            op2 = s[-1]\n",
    "            s.pop()\n",
    "\n",
    "            temp = post_exp[i] + op2 + op1\n",
    "\n",
    "            s.append(temp)\n",
    "\n",
    "        else:\n",
    "\n",
    "            s.append(post_exp[i])\n",
    "\n",
    "    ans = \"\"\n",
    "    for i in s:\n",
    "        ans += i\n",
    "    return ans\n",
    "\n",
    "if __name__ == \"__main__\":\n",
    "\n",
    "    post_exp = \"AB+CD-\"\n",
    "\n",
    "    print(\"Prefix expresion is  : \", postToPre(post_exp))"
   ]
  },
  {
   "cell_type": "code",
   "execution_count": 5,
   "id": "2f733ed0",
   "metadata": {},
   "outputs": [
    {
     "name": "stdout",
     "output_type": "stream",
     "text": [
      "prefix expression to infix expression.  ((A-(B/C))*((A/K)-L))\n"
     ]
    }
   ],
   "source": [
    "#Q7. Write a program to convert prefix expression to infix expression.\n",
    "\n",
    "\n",
    "def prefixToInfix(prefix):\n",
    "    stack = []\n",
    "\n",
    "    i = len(prefix) - 1\n",
    "    while i >= 0:\n",
    "        if not isOperator(prefix[i]):\n",
    "\n",
    "            stack.append(prefix[i])\n",
    "            i -= 1\n",
    "        else:\n",
    "\n",
    "            str = \"(\" + stack.pop() + prefix[i] + stack.pop() + \")\"\n",
    "            stack.append(str)\n",
    "            i -= 1\n",
    "\n",
    "    return stack.pop()\n",
    "\n",
    "def isOperator(c):\n",
    "    if c == \"*\" or c == \"+\" or c == \"-\" or c == \"/\" or c == \"^\" or c == \"(\" or c == \")\":\n",
    "        return True\n",
    "    else:\n",
    "        return False\n",
    "\n",
    "if __name__==\"__main__\":\n",
    "    str = \"*-A/BC-/AKL\"\n",
    "    print(\"prefix expression to infix expression. \", prefixToInfix(str))"
   ]
  },
  {
   "cell_type": "code",
   "execution_count": 18,
   "id": "ad03f88b",
   "metadata": {},
   "outputs": [
    {
     "name": "stdout",
     "output_type": "stream",
     "text": [
      "Balanced\n"
     ]
    }
   ],
   "source": [
    "#Q8. Write a program to check if all the brackets are closed in a given code snippet.\n",
    "\n",
    "def areBracketsBalanced(expr):\n",
    "    stack = []\n",
    "\n",
    "    for char in expr:\n",
    "        if char in [\"(\", \"{\", \"[\"]:\n",
    "\n",
    "            stack.append(char)\n",
    "        else:\n",
    "\n",
    "            if not stack:\n",
    "                return False\n",
    "            current_char = stack.pop()\n",
    "            if current_char == '(':\n",
    "                if char != \")\":\n",
    "                    return False\n",
    "            if current_char == '{':\n",
    "                if char != \"}\":\n",
    "                    return False\n",
    "            if current_char == '[':\n",
    "                if char != \"]\":\n",
    "                    return False\n",
    "\n",
    "    if stack:\n",
    "        return False\n",
    "    return True\n",
    "\n",
    "if __name__ == \"__main__\":\n",
    "    expr = \"{()}[]\"\n",
    "\n",
    "    if areBracketsBalanced(expr):\n",
    "        print(\"Balanced\")\n",
    "    else:\n",
    "        print(\"Not Balanced\")\n"
   ]
  },
  {
   "cell_type": "code",
   "execution_count": 19,
   "id": "fdc9f200",
   "metadata": {},
   "outputs": [
    {
     "name": "stdout",
     "output_type": "stream",
     "text": [
      "Original Stack\n",
      "5\n",
      "4\n",
      "3\n",
      "2\n",
      "1\n",
      "\n",
      "Stack after Reversing\n",
      "1\n",
      "2\n",
      "3\n",
      "4\n",
      "5\n"
     ]
    }
   ],
   "source": [
    "#Q9. Write a program to reverse a stack.\n",
    "\n",
    "\n",
    "\n",
    "class Stack:\n",
    "\n",
    "    def __init__(self):\n",
    "        self.Elements = []\n",
    "\n",
    "    def push(self, value):\n",
    "        self.Elements.append(value)\n",
    "        \n",
    "    def pop(self):\n",
    "        return self.Elements.pop()\n",
    "    \n",
    "    def empty(self):\n",
    "        return self.Elements == []\n",
    "\n",
    "    def show(self):\n",
    "        for value in reversed(self.Elements):\n",
    "            print(value)\n",
    "\n",
    "def BottomInsert(s, value):\n",
    "\n",
    "    if s.empty():\n",
    "\n",
    "        s.push(value)\n",
    "\n",
    "    else:\n",
    "        popped = s.pop()\n",
    "        BottomInsert(s, value)\n",
    "        s.push(popped)\n",
    "\n",
    "def Reverse(s):\n",
    "    if s.empty():\n",
    "        pass\n",
    "    else:\n",
    "        popped = s.pop()\n",
    "        Reverse(s)\n",
    "        BottomInsert(s, popped)\n",
    "\n",
    "stk = Stack()\n",
    "\n",
    "stk.push(1)\n",
    "stk.push(2)\n",
    "stk.push(3)\n",
    "stk.push(4)\n",
    "stk.push(5)\n",
    "\n",
    "print(\"Original Stack\")\n",
    "stk.show()\n",
    "\n",
    "print(\"\\nStack after Reversing\")\n",
    "Reverse(stk)\n",
    "stk.show()\n"
   ]
  },
  {
   "cell_type": "code",
   "execution_count": 21,
   "id": "d4d92eca",
   "metadata": {},
   "outputs": [
    {
     "name": "stdout",
     "output_type": "stream",
     "text": [
      "enter the size of stack : 5\n",
      "enter the element in stack :12\n",
      "enter the element in stack :34\n",
      "enter the element in stack :56\n",
      "enter the element in stack :7\n",
      "enter the element in stack :4\n",
      "[12, 34, 56, 7, 4]\n",
      "the minimum no in the stack is : 4\n"
     ]
    }
   ],
   "source": [
    "#Q10. Write a program to find the smallest number using a stack.\n",
    "\n",
    "stack1=[]\n",
    "num=int(input(\"enter the size of stack : \"))\n",
    "for i in range(num):\n",
    "    ele=int(input(\"enter the element in stack :\"))\n",
    "    stack1.append(ele)\n",
    "print(stack1)\n",
    "print(\"the minimum no in the stack is :\",min(stack1))"
   ]
  },
  {
   "cell_type": "code",
   "execution_count": null,
   "id": "f9ff9ada",
   "metadata": {},
   "outputs": [],
   "source": []
  }
 ],
 "metadata": {
  "kernelspec": {
   "display_name": "Python 3 (ipykernel)",
   "language": "python",
   "name": "python3"
  },
  "language_info": {
   "codemirror_mode": {
    "name": "ipython",
    "version": 3
   },
   "file_extension": ".py",
   "mimetype": "text/x-python",
   "name": "python",
   "nbconvert_exporter": "python",
   "pygments_lexer": "ipython3",
   "version": "3.9.12"
  }
 },
 "nbformat": 4,
 "nbformat_minor": 5
}
